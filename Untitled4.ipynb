{
  "nbformat": 4,
  "nbformat_minor": 0,
  "metadata": {
    "colab": {
      "provenance": [],
      "authorship_tag": "ABX9TyPtY9rNNfybPcp17DpjBSN7",
      "include_colab_link": true
    },
    "kernelspec": {
      "name": "python3",
      "display_name": "Python 3"
    },
    "language_info": {
      "name": "python"
    }
  },
  "cells": [
    {
      "cell_type": "markdown",
      "metadata": {
        "id": "view-in-github",
        "colab_type": "text"
      },
      "source": [
        "<a href=\"https://colab.research.google.com/github/Lathika16/exp1/blob/main/Untitled4.ipynb\" target=\"_parent\"><img src=\"https://colab.research.google.com/assets/colab-badge.svg\" alt=\"Open In Colab\"/></a>"
      ]
    },
    {
      "cell_type": "code",
      "execution_count": 1,
      "metadata": {
        "id": "eCfTxE6D11fK",
        "outputId": "b49ef1d5-eba9-4567-bbd7-00d4662f0056",
        "colab": {
          "base_uri": "https://localhost:8080/"
        }
      },
      "outputs": [
        {
          "output_type": "stream",
          "name": "stdout",
          "text": [
            "Best value for MAX: 6\n"
          ]
        }
      ],
      "source": [
        "def minimax(node, is_max):\n",
        "    # Base case: leaf node\n",
        "    if isinstance(node, int):\n",
        "        return node\n",
        "\n",
        "    # Recursively evaluate all children\n",
        "    children_scores = [minimax(child, not is_max) for child in node]\n",
        "\n",
        "    # Return max or min value depending on the player\n",
        "    return max(children_scores) if is_max else min(children_scores)\n",
        "\n",
        "# Example Game Tree\n",
        "# Represented as nested lists (like Prolog tree terms)\n",
        "# Root is MAX node\n",
        "game_tree = [\n",
        "    [3, 5, 2],       # MIN level -> MIN(3,5,2) = 2\n",
        "    [9, 1, 4],       # MIN level -> MIN(9,1,4) = 1\n",
        "    [8, 6]           # MIN level -> MIN(8,6)   = 6\n",
        "]\n",
        "\n",
        "# Run Minimax from root\n",
        "best_value = minimax(game_tree, is_max=True)\n",
        "print(\"Best value for MAX:\", best_value)"
      ]
    }
  ]
}