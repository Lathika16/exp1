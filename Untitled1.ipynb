{
  "nbformat": 4,
  "nbformat_minor": 0,
  "metadata": {
    "colab": {
      "provenance": [],
      "authorship_tag": "ABX9TyMG7ofA8yG7YhhGKzHJqMuY",
      "include_colab_link": true
    },
    "kernelspec": {
      "name": "python3",
      "display_name": "Python 3"
    },
    "language_info": {
      "name": "python"
    }
  },
  "cells": [
    {
      "cell_type": "markdown",
      "metadata": {
        "id": "view-in-github",
        "colab_type": "text"
      },
      "source": [
        "<a href=\"https://colab.research.google.com/github/Lathika16/exp1/blob/main/Untitled1.ipynb\" target=\"_parent\"><img src=\"https://colab.research.google.com/assets/colab-badge.svg\" alt=\"Open In Colab\"/></a>"
      ]
    },
    {
      "cell_type": "code",
      "execution_count": 1,
      "metadata": {
        "colab": {
          "base_uri": "https://localhost:8080/"
        },
        "id": "K_AENXrl0jvd",
        "outputId": "b84310ca-377f-460f-d13d-7aec819e91da"
      },
      "outputs": [
        {
          "output_type": "stream",
          "name": "stdout",
          "text": [
            "One valid solution:\n",
            "Q.......\n",
            "....Q...\n",
            ".......Q\n",
            ".....Q..\n",
            "..Q.....\n",
            "......Q.\n",
            ".Q......\n",
            "...Q....\n",
            "\n"
          ]
        }
      ],
      "source": [
        "def printSolution(board):\n",
        "    for row in board:\n",
        "        for i in range(len(board)):\n",
        "            print(\"Q\" if row[i] else \".\", end=\"\")\n",
        "        print()\n",
        "    print()\n",
        "\n",
        "def isSafe(board, row, col):\n",
        "    for i in range(row):\n",
        "        if board[i][col]:\n",
        "            return False\n",
        "    for i, j in zip(range(row - 1, -1, -1), range(col - 1, -1, -1)):\n",
        "        if board[i][j]:\n",
        "            return False\n",
        "    for i, j in zip(range(row - 1, -1, -1), range(col + 1, len(board))):\n",
        "        if board[i][j]:\n",
        "            return False\n",
        "    return True\n",
        "\n",
        "def solve(board, row):\n",
        "    if row == len(board):\n",
        "        print(\"One valid solution:\")\n",
        "        printSolution(board)\n",
        "        return True\n",
        "    for col in range(len(board)):\n",
        "        if isSafe(board, row, col):\n",
        "            board[row][col] = 1\n",
        "            if solve(board, row + 1):\n",
        "                return True\n",
        "            board[row][col] = 0\n",
        "    return False\n",
        "\n",
        "def eightQueens():\n",
        "    N = 8\n",
        "    board = [[0 for _ in range(N)] for _ in range(N)]\n",
        "    solve(board, 0)\n",
        "\n",
        "eightQueens()"
      ]
    }
  ]
}