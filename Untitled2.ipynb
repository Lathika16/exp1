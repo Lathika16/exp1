{
  "nbformat": 4,
  "nbformat_minor": 0,
  "metadata": {
    "colab": {
      "provenance": [],
      "authorship_tag": "ABX9TyNSRgY3WNbg8ZAneNF0jpkW",
      "include_colab_link": true
    },
    "kernelspec": {
      "name": "python3",
      "display_name": "Python 3"
    },
    "language_info": {
      "name": "python"
    }
  },
  "cells": [
    {
      "cell_type": "markdown",
      "metadata": {
        "id": "view-in-github",
        "colab_type": "text"
      },
      "source": [
        "<a href=\"https://colab.research.google.com/github/Lathika16/exp1/blob/main/Untitled2.ipynb\" target=\"_parent\"><img src=\"https://colab.research.google.com/assets/colab-badge.svg\" alt=\"Open In Colab\"/></a>"
      ]
    },
    {
      "cell_type": "code",
      "execution_count": 1,
      "metadata": {
        "colab": {
          "base_uri": "https://localhost:8080/"
        },
        "id": "uZF53rr11HhR",
        "outputId": "d94eeeb2-e5da-42ec-dc8e-11079f8efc30"
      },
      "outputs": [
        {
          "output_type": "stream",
          "name": "stdout",
          "text": [
            "Current Board:\n",
            "X | O | X\n",
            "  | O |  \n",
            "  |   |  \n",
            "\n",
            "After AI move:\n",
            "X | O | X\n",
            "  | O |  \n",
            "  | X |  \n",
            "\n"
          ]
        }
      ],
      "source": [
        "def print_board(board):\n",
        "    for row in board:\n",
        "        print(\" | \".join(row))\n",
        "    print()\n",
        "\n",
        "def check_winner(board):\n",
        "    # Rows, Columns and Diagonals\n",
        "    lines = board + list(map(list, zip(*board))) + [[board[i][i] for i in range(3)], [board[i][2 - i] for i in range(3)]]\n",
        "    if ['X'] * 3 in lines:\n",
        "        return 'X'\n",
        "    elif ['O'] * 3 in lines:\n",
        "        return 'O'\n",
        "    elif all(cell != ' ' for row in board for cell in row):\n",
        "        return 'Draw'\n",
        "    return None\n",
        "\n",
        "def minimax(board, is_maximizing):\n",
        "    winner = check_winner(board)\n",
        "    if winner == 'X': return 1\n",
        "    if winner == 'O': return -1\n",
        "    if winner == 'Draw': return 0\n",
        "\n",
        "    if is_maximizing:\n",
        "        best_score = -float('inf')\n",
        "        for i in range(3):\n",
        "            for j in range(3):\n",
        "                if board[i][j] == ' ':\n",
        "                    board[i][j] = 'X'\n",
        "                    score = minimax(board, False)\n",
        "                    board[i][j] = ' '\n",
        "                    best_score = max(score, best_score)\n",
        "        return best_score\n",
        "    else:\n",
        "        best_score = float('inf')\n",
        "        for i in range(3):\n",
        "            for j in range(3):\n",
        "                if board[i][j] == ' ':\n",
        "                    board[i][j] = 'O'\n",
        "                    score = minimax(board, True)\n",
        "                    board[i][j] = ' '\n",
        "                    best_score = min(score, best_score)\n",
        "        return best_score\n",
        "\n",
        "def best_move(board):\n",
        "    best_score = -float('inf')\n",
        "    move = None\n",
        "    for i in range(3):\n",
        "        for j in range(3):\n",
        "            if board[i][j] == ' ':\n",
        "                board[i][j] = 'X'\n",
        "                score = minimax(board, False)\n",
        "                board[i][j] = ' '\n",
        "                if score > best_score:\n",
        "                    best_score = score\n",
        "                    move = (i, j)\n",
        "    return move\n",
        "\n",
        "# Example Game\n",
        "board = [\n",
        "    ['X', 'O', 'X'],\n",
        "    [' ', 'O', ' '],\n",
        "    [' ', ' ', ' ']\n",
        "]\n",
        "\n",
        "print(\"Current Board:\")\n",
        "print_board(board)\n",
        "\n",
        "move = best_move(board)\n",
        "if move:\n",
        "    board[move[0]][move[1]] = 'X'\n",
        "\n",
        "print(\"After AI move:\")\n",
        "print_board(board)"
      ]
    }
  ]
}